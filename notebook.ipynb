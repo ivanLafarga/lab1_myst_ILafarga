{
 "cells": [
  {
   "cell_type": "markdown",
   "metadata": {},
   "source": [
    "<center> <img src=\"http://oci02.img.iteso.mx/identidad_de_instancia_2018/ITESO/Logos%20ITESO/Logo-ITESO-Principal.jpg\" align=\"center\" width=\"960\" height=\"480\"/> </center>"
   ]
  },
  {
   "cell_type": "markdown",
   "metadata": {},
   "source": [
    "<center><font color=#555555><font size=6> Laboratorio 1 </font> <br> <br>\n",
    "    \n",
    "<center><font color=#555555><font size=5> Inversión pasiva y activa </font> <br> <br> <br> <br>\n",
    "\n",
    "<center><font color=#555555><font size=6> Jesús Iván Lafarga Lizarrga </font> <br> <br>\n",
    "   \n",
    "<center> <font color= #555555> <font size = 4> 09 - 2022</a> | <font color= #555555> <font size = 4> Repository: <a href='https://github.com/ivanLafarga/lab1_myst_ILafarga'>Link</a></font>"
   ]
  },
  {
   "cell_type": "markdown",
   "metadata": {},
   "source": [
    "<hr style=\"border:0.02in solid gray\"> </hr>"
   ]
  },
  {
   "cell_type": "markdown",
   "metadata": {},
   "source": [
    "<center> <font color= #555555> <font size = 6> Inversión pasiva </font> <br> <br> <font color= #555555> <font size = 5> Análisis del rendimiento de una inversión pasiva </font>"
   ]
  },
  {
   "cell_type": "markdown",
   "metadata": {},
   "source": [
    "<hr style=\"border:0.02in solid gray\"> </hr>"
   ]
  },
  {
   "cell_type": "markdown",
   "metadata": {},
   "source": [
    "<br>"
   ]
  },
  {
   "cell_type": "markdown",
   "metadata": {},
   "source": [
    "<font color= #555555> <font size = 4> Abstract </font>"
   ]
  },
  {
   "cell_type": "markdown",
   "metadata": {},
   "source": [
    "<font color= #6B6B6B> <font size = 3>  Include here a description of the whole work, use no more than 400 words, you can use **Bold** and *Italic* highlights, also you can inclue [links](www.iteso.mx). Usually is a good strategy to generate this text at the very end of the process, since you have to include all aspects of the work, from a brief introduction, to problem definitions and methods used, to finally the results found. </font>"
   ]
  },
  {
   "cell_type": "markdown",
   "metadata": {},
   "source": [
    "<br>"
   ]
  },
  {
   "cell_type": "markdown",
   "metadata": {},
   "source": [
    "# <font color= #6B6B6B> <font size = 6> 1. Introduction </font>"
   ]
  },
  {
   "cell_type": "markdown",
   "metadata": {},
   "source": [
    "<hr style=\"border:0.02in solid gray\"> </hr>"
   ]
  },
  {
   "cell_type": "markdown",
   "metadata": {},
   "source": [
    "El motivo de este laboratirio es construir una serie de tiempo, de periodicidad mensual, donde para cada fecha en la que se tiene el rebalanceo (archivos) tendrá un valor calculado del ETF, se considera un capital inicial de 1 Millón de pesos.\n",
    "\n",
    "•\tLas bases de datos utilizadas en este laboratorio fueron una referencia de un ETF, el NAFTRAC, que representa al S&P/BMV IPC. El NAFTRAC, el cual es un certificado de Participación Ordinaria no amortizable, emitido por Nacional Financiera. Es un instrumento financiero que confiere a sus tenedores el derecho a una parte alícuota de un portafolio de acciones fideicomitidas. Es el primer instrumento en su tipo en Latinoamérica.Está indexado al Índice de Precios y Cotizaciones de la Bolsa Mexicana de Valores en un 100% y facilita a pequeños inversionistas el acceso a inversiones patrimoniales.\n",
    "\n",
    "•\tReferente a este certificado se utilizarón las bases de datos mensuales de las acciones que lo conforman un periodo de 2 años en las fechas que van de 31 enero al 2020 a 29 de julio del año 2022, consideran las comisiones a pagar por cada rebalanceo = 0.00125 del valor de la operación (títulos*precio*comisión) ya que solo se permiten operaciones de compra (posición en largo).\n",
    "\n",
    "•\tLas operaciones se ejecutan al precio de mercado y se considera un solo precio de compra o de venta para todos los títulos en la operación.\n",
    "\n",
    "•\tCalcula el valor de ese portafolio para todas las fechas utilizando los archivos históricos.\n",
    "Como es Inversión Pasiva, la cual es en un enfoque de inversión a largo plazo con el objetivo de crear riqueza gradualmente a lo largo del tiempo. Al minimizar la compra y jde costos. Se forma un portafolio con las ponderaciones del primer mes y se calculaa sus comisiones.\n"
   ]
  },
  {
   "cell_type": "markdown",
   "metadata": {},
   "source": [
    "<br>"
   ]
  },
  {
   "cell_type": "markdown",
   "metadata": {},
   "source": [
    "# <font color= #6B6B6B> 2. Install/Load Packages and Depedencies </font>"
   ]
  },
  {
   "cell_type": "markdown",
   "metadata": {},
   "source": [
    "<hr style=\"border:0.02in solid gray\"> </hr>"
   ]
  },
  {
   "cell_type": "markdown",
   "metadata": {},
   "source": [
    "## <font color= #6B6B6B> 2.1 Python Packages </font> <font color= #555555>"
   ]
  },
  {
   "cell_type": "markdown",
   "metadata": {},
   "source": [
    "In order to run this notebook, it is necessary to have installed and/or have the _requirements.txt_ file with the following: "
   ]
  },
  {
   "cell_type": "markdown",
   "metadata": {},
   "source": [
    "- pandas>=1.1.1 \n",
    "- numpy>=1.19.1\n",
    "- jupyter>=1.0.0\n",
    "- yfinance"
   ]
  },
  {
   "cell_type": "markdown",
   "metadata": {},
   "source": [
    "## <font color= #6B6B6B> 2.2 Files Dependencies </font> <font color= #555555>"
   ]
  },
  {
   "cell_type": "markdown",
   "metadata": {},
   "source": [
    "The following are the file dependencies that are needed to run this notebook:"
   ]
  },
  {
   "cell_type": "markdown",
   "metadata": {},
   "source": [
    "- files/NAFTRAC_2020_2022: Carpeta con los archivos historicos de NAFTRAC."
   ]
  },
  {
   "cell_type": "markdown",
   "metadata": {},
   "source": [
    "## <font color= #6E6E6E> 2.3 Install Packages</font>"
   ]
  },
  {
   "cell_type": "code",
   "execution_count": 1,
   "metadata": {},
   "outputs": [
    {
     "name": "stdout",
     "output_type": "stream",
     "text": [
      "[*********************100%***********************]  1 of 1 completed\n",
      "[*********************100%***********************]  1 of 1 completed\n",
      "[*********************100%***********************]  1 of 1 completed\n",
      "[*********************100%***********************]  1 of 1 completed\n",
      "[*********************100%***********************]  1 of 1 completed\n",
      "[*********************100%***********************]  1 of 1 completed\n",
      "[*********************100%***********************]  1 of 1 completed\n",
      "[*********************100%***********************]  1 of 1 completed\n",
      "[*********************100%***********************]  1 of 1 completed\n",
      "[*********************100%***********************]  1 of 1 completed\n",
      "[*********************100%***********************]  1 of 1 completed\n",
      "[*********************100%***********************]  1 of 1 completed\n",
      "[*********************100%***********************]  1 of 1 completed\n",
      "[*********************100%***********************]  1 of 1 completed\n",
      "[*********************100%***********************]  1 of 1 completed\n",
      "[*********************100%***********************]  1 of 1 completed\n",
      "[*********************100%***********************]  1 of 1 completed\n",
      "[*********************100%***********************]  1 of 1 completed\n",
      "[*********************100%***********************]  1 of 1 completed\n",
      "[*********************100%***********************]  1 of 1 completed\n",
      "[*********************100%***********************]  1 of 1 completed\n",
      "[*********************100%***********************]  1 of 1 completed\n",
      "[*********************100%***********************]  1 of 1 completed\n",
      "[*********************100%***********************]  1 of 1 completed\n",
      "[*********************100%***********************]  1 of 1 completed\n",
      "[*********************100%***********************]  1 of 1 completed\n",
      "[*********************100%***********************]  1 of 1 completed\n",
      "[*********************100%***********************]  1 of 1 completed\n",
      "[*********************100%***********************]  1 of 1 completed\n",
      "[*********************100%***********************]  1 of 1 completed\n",
      "[*********************100%***********************]  1 of 1 completed\n",
      "[*********************100%***********************]  1 of 1 completed\n"
     ]
    }
   ],
   "source": [
    "import main as mn"
   ]
  },
  {
   "cell_type": "markdown",
   "metadata": {},
   "source": [
    "# <font color= #6B6B6B> 3. Proceso de inversión pasiva </font>"
   ]
  },
  {
   "cell_type": "markdown",
   "metadata": {},
   "source": [
    "<hr style=\"border:0.02in solid gray\"> </hr>"
   ]
  },
  {
   "cell_type": "markdown",
   "metadata": {},
   "source": [
    "En la siguiente tabla se compone de los activos que componen el NAFTRAC dentro de la fecha correspondiente a enero de 2020, presetna el ticker de la acción , su peso dentr del ETF , el peso del activo expresado en su valor monetario, la comisión que se pagara por la transacción, el precio de cierre obtenido por Yahoo finance y el numero de titulos obtenidos por la compra.\n",
    "\n",
    "Del monto monetario para invertir se utilizaron $951,700.0 para la adquisición de los titulos de las accoiones así como $1,189.625 en el pago de comisión por adquisión de estos mismos. "
   ]
  },
  {
   "cell_type": "code",
   "execution_count": 2,
   "metadata": {},
   "outputs": [
    {
     "data": {
      "text/html": [
       "<div>\n",
       "<style scoped>\n",
       "    .dataframe tbody tr th:only-of-type {\n",
       "        vertical-align: middle;\n",
       "    }\n",
       "\n",
       "    .dataframe tbody tr th {\n",
       "        vertical-align: top;\n",
       "    }\n",
       "\n",
       "    .dataframe thead th {\n",
       "        text-align: right;\n",
       "    }\n",
       "</style>\n",
       "<table border=\"1\" class=\"dataframe\">\n",
       "  <thead>\n",
       "    <tr style=\"text-align: right;\">\n",
       "      <th></th>\n",
       "      <th>Ticker</th>\n",
       "      <th>Peso (%)</th>\n",
       "      <th>Valor monetario</th>\n",
       "      <th>Comision</th>\n",
       "      <th>Precio cierre</th>\n",
       "      <th>Títulos</th>\n",
       "    </tr>\n",
       "    <tr>\n",
       "      <th>Ticker</th>\n",
       "      <th></th>\n",
       "      <th></th>\n",
       "      <th></th>\n",
       "      <th></th>\n",
       "      <th></th>\n",
       "      <th></th>\n",
       "    </tr>\n",
       "  </thead>\n",
       "  <tbody>\n",
       "    <tr>\n",
       "      <th>AMXL.MX</th>\n",
       "      <td>AMXL.MX</td>\n",
       "      <td>0.1370</td>\n",
       "      <td>137000.0</td>\n",
       "      <td>171.250</td>\n",
       "      <td>15.695000</td>\n",
       "      <td>8728.0</td>\n",
       "    </tr>\n",
       "    <tr>\n",
       "      <th>FEMSAUBD.MX</th>\n",
       "      <td>FEMSAUBD.MX</td>\n",
       "      <td>0.1185</td>\n",
       "      <td>118500.0</td>\n",
       "      <td>148.125</td>\n",
       "      <td>170.255005</td>\n",
       "      <td>696.0</td>\n",
       "    </tr>\n",
       "    <tr>\n",
       "      <th>GFNORTEO.MX</th>\n",
       "      <td>GFNORTEO.MX</td>\n",
       "      <td>0.1064</td>\n",
       "      <td>106400.0</td>\n",
       "      <td>133.000</td>\n",
       "      <td>116.129997</td>\n",
       "      <td>916.0</td>\n",
       "    </tr>\n",
       "    <tr>\n",
       "      <th>WALMEX.MX</th>\n",
       "      <td>WALMEX.MX</td>\n",
       "      <td>0.1039</td>\n",
       "      <td>103900.0</td>\n",
       "      <td>129.875</td>\n",
       "      <td>55.220001</td>\n",
       "      <td>1881.0</td>\n",
       "    </tr>\n",
       "    <tr>\n",
       "      <th>GMEXICOB.MX</th>\n",
       "      <td>GMEXICOB.MX</td>\n",
       "      <td>0.0603</td>\n",
       "      <td>60300.0</td>\n",
       "      <td>75.375</td>\n",
       "      <td>50.215000</td>\n",
       "      <td>1200.0</td>\n",
       "    </tr>\n",
       "  </tbody>\n",
       "</table>\n",
       "</div>"
      ],
      "text/plain": [
       "                  Ticker  Peso (%)  Valor monetario  Comision  Precio cierre  \\\n",
       "Ticker                                                                         \n",
       "AMXL.MX          AMXL.MX    0.1370         137000.0   171.250      15.695000   \n",
       "FEMSAUBD.MX  FEMSAUBD.MX    0.1185         118500.0   148.125     170.255005   \n",
       "GFNORTEO.MX  GFNORTEO.MX    0.1064         106400.0   133.000     116.129997   \n",
       "WALMEX.MX      WALMEX.MX    0.1039         103900.0   129.875      55.220001   \n",
       "GMEXICOB.MX  GMEXICOB.MX    0.0603          60300.0    75.375      50.215000   \n",
       "\n",
       "             Títulos  \n",
       "Ticker                \n",
       "AMXL.MX       8728.0  \n",
       "FEMSAUBD.MX    696.0  \n",
       "GFNORTEO.MX    916.0  \n",
       "WALMEX.MX     1881.0  \n",
       "GMEXICOB.MX   1200.0  "
      ]
     },
     "execution_count": 2,
     "metadata": {},
     "output_type": "execute_result"
    }
   ],
   "source": [
    "mn.datos.head()\n"
   ]
  },
  {
   "cell_type": "markdown",
   "metadata": {},
   "source": [
    "<br>"
   ]
  },
  {
   "cell_type": "code",
   "execution_count": 3,
   "metadata": {},
   "outputs": [
    {
     "data": {
      "text/plain": [
       "951700.0"
      ]
     },
     "execution_count": 3,
     "metadata": {},
     "output_type": "execute_result"
    }
   ],
   "source": [
    "mn.datos['Valor monetario'].sum()"
   ]
  },
  {
   "cell_type": "code",
   "execution_count": 4,
   "metadata": {},
   "outputs": [
    {
     "data": {
      "text/plain": [
       "1189.625"
      ]
     },
     "execution_count": 4,
     "metadata": {},
     "output_type": "execute_result"
    }
   ],
   "source": [
    "mn.datos['Comision'].sum()"
   ]
  },
  {
   "cell_type": "markdown",
   "metadata": {},
   "source": [
    "Comenzamos en la fecha de 2020-01-31 en la tabla , momento exacto donde se presenta el capital de \\$997,655.474 el cual es el monto inicial del portafolio; en el transcurso de 2 años y 6 mese, es decir, llegando a finales del mes de julio terminamos con esta cantidad \\$1,098,429.00 esto representa un rendimiento de 14.3124\\%."
   ]
  },
  {
   "cell_type": "code",
   "execution_count": 5,
   "metadata": {},
   "outputs": [
    {
     "data": {
      "text/html": [
       "<div>\n",
       "<style scoped>\n",
       "    .dataframe tbody tr th:only-of-type {\n",
       "        vertical-align: middle;\n",
       "    }\n",
       "\n",
       "    .dataframe tbody tr th {\n",
       "        vertical-align: top;\n",
       "    }\n",
       "\n",
       "    .dataframe thead th {\n",
       "        text-align: right;\n",
       "    }\n",
       "</style>\n",
       "<table border=\"1\" class=\"dataframe\">\n",
       "  <thead>\n",
       "    <tr style=\"text-align: right;\">\n",
       "      <th></th>\n",
       "      <th>Capital</th>\n",
       "      <th>Rendimiento</th>\n",
       "      <th>Rendimiento acum</th>\n",
       "    </tr>\n",
       "  </thead>\n",
       "  <tbody>\n",
       "    <tr>\n",
       "      <th>2020-01-31</th>\n",
       "      <td>997655.474108</td>\n",
       "      <td>NaN</td>\n",
       "      <td>NaN</td>\n",
       "    </tr>\n",
       "    <tr>\n",
       "      <th>2020-02-28</th>\n",
       "      <td>934426.744135</td>\n",
       "      <td>-0.063377</td>\n",
       "      <td>-0.063377</td>\n",
       "    </tr>\n",
       "    <tr>\n",
       "      <th>2020-03-31</th>\n",
       "      <td>786764.762403</td>\n",
       "      <td>-0.158024</td>\n",
       "      <td>-0.221401</td>\n",
       "    </tr>\n",
       "    <tr>\n",
       "      <th>2020-04-30</th>\n",
       "      <td>834759.035030</td>\n",
       "      <td>0.061002</td>\n",
       "      <td>-0.160399</td>\n",
       "    </tr>\n",
       "    <tr>\n",
       "      <th>2020-05-29</th>\n",
       "      <td>831794.581326</td>\n",
       "      <td>-0.003551</td>\n",
       "      <td>-0.163951</td>\n",
       "    </tr>\n",
       "  </tbody>\n",
       "</table>\n",
       "</div>"
      ],
      "text/plain": [
       "                  Capital  Rendimiento  Rendimiento acum\n",
       "2020-01-31  997655.474108          NaN               NaN\n",
       "2020-02-28  934426.744135    -0.063377         -0.063377\n",
       "2020-03-31  786764.762403    -0.158024         -0.221401\n",
       "2020-04-30  834759.035030     0.061002         -0.160399\n",
       "2020-05-29  831794.581326    -0.003551         -0.163951"
      ]
     },
     "metadata": {},
     "output_type": "display_data"
    },
    {
     "data": {
      "text/html": [
       "<div>\n",
       "<style scoped>\n",
       "    .dataframe tbody tr th:only-of-type {\n",
       "        vertical-align: middle;\n",
       "    }\n",
       "\n",
       "    .dataframe tbody tr th {\n",
       "        vertical-align: top;\n",
       "    }\n",
       "\n",
       "    .dataframe thead th {\n",
       "        text-align: right;\n",
       "    }\n",
       "</style>\n",
       "<table border=\"1\" class=\"dataframe\">\n",
       "  <thead>\n",
       "    <tr style=\"text-align: right;\">\n",
       "      <th></th>\n",
       "      <th>Capital</th>\n",
       "      <th>Rendimiento</th>\n",
       "      <th>Rendimiento acum</th>\n",
       "    </tr>\n",
       "  </thead>\n",
       "  <tbody>\n",
       "    <tr>\n",
       "      <th>2022-03-31</th>\n",
       "      <td>1.286889e+06</td>\n",
       "      <td>0.060763</td>\n",
       "      <td>0.294004</td>\n",
       "    </tr>\n",
       "    <tr>\n",
       "      <th>2022-04-29</th>\n",
       "      <td>1.171614e+06</td>\n",
       "      <td>-0.089576</td>\n",
       "      <td>0.204427</td>\n",
       "    </tr>\n",
       "    <tr>\n",
       "      <th>2022-05-31</th>\n",
       "      <td>1.178108e+06</td>\n",
       "      <td>0.005543</td>\n",
       "      <td>0.209970</td>\n",
       "    </tr>\n",
       "    <tr>\n",
       "      <th>2022-06-30</th>\n",
       "      <td>1.087327e+06</td>\n",
       "      <td>-0.077056</td>\n",
       "      <td>0.132914</td>\n",
       "    </tr>\n",
       "    <tr>\n",
       "      <th>2022-07-29</th>\n",
       "      <td>1.098429e+06</td>\n",
       "      <td>0.010210</td>\n",
       "      <td>0.143124</td>\n",
       "    </tr>\n",
       "  </tbody>\n",
       "</table>\n",
       "</div>"
      ],
      "text/plain": [
       "                 Capital  Rendimiento  Rendimiento acum\n",
       "2022-03-31  1.286889e+06     0.060763          0.294004\n",
       "2022-04-29  1.171614e+06    -0.089576          0.204427\n",
       "2022-05-31  1.178108e+06     0.005543          0.209970\n",
       "2022-06-30  1.087327e+06    -0.077056          0.132914\n",
       "2022-07-29  1.098429e+06     0.010210          0.143124"
      ]
     },
     "metadata": {},
     "output_type": "display_data"
    }
   ],
   "source": [
    "display(mn.df_final.head())\n",
    "\n",
    "display(mn.df_final.tail())"
   ]
  },
  {
   "cell_type": "markdown",
   "metadata": {},
   "source": [
    "La siguente gráfica muestra el rendimiento acomulado durante periodo de inversión "
   ]
  },
  {
   "cell_type": "code",
   "execution_count": 6,
   "metadata": {},
   "outputs": [
    {
     "data": {
      "text/plain": [
       "<AxesSubplot:>"
      ]
     },
     "execution_count": 6,
     "metadata": {},
     "output_type": "execute_result"
    },
    {
     "data": {
      "image/png": "[encoded data removed]",
      "text/plain": [
       "<Figure size 432x288 with 1 Axes>"
      ]
     },
     "metadata": {
      "needs_background": "light"
     },
     "output_type": "display_data"
    }
   ],
   "source": [
    "mn.df_final['Rendimiento acum'].plot()"
   ]
  },
  {
   "cell_type": "markdown",
   "metadata": {},
   "source": [
    "# <font color= #6B6B6B> 4. Métricas de atribución al desempeño  </font>"
   ]
  },
  {
   "cell_type": "markdown",
   "metadata": {},
   "source": [
    "<hr style=\"border:0.02in solid gray\"> </hr>"
   ]
  },
  {
   "cell_type": "markdown",
   "metadata": {},
   "source": [
    "Se presenta un rendimiento acomulado bueno,se presenta como una ganancia total percibida al finalizar la inversión, el cual es de 14.314\\%  además los resultados muestran al rendimiento mensual promedio en 0.4771 % y obteniendo un radio sharpe -68.0206 % ya que esto refiere a que la tasa libre de riego de este portafolo fue mayor que le rendimiento promedio mensual."
   ]
  },
  {
   "cell_type": "code",
   "execution_count": 8,
   "metadata": {},
   "outputs": [
    {
     "data": {
      "text/html": [
       "<div>\n",
       "<style scoped>\n",
       "    .dataframe tbody tr th:only-of-type {\n",
       "        vertical-align: middle;\n",
       "    }\n",
       "\n",
       "    .dataframe tbody tr th {\n",
       "        vertical-align: top;\n",
       "    }\n",
       "\n",
       "    .dataframe thead th {\n",
       "        text-align: right;\n",
       "    }\n",
       "</style>\n",
       "<table border=\"1\" class=\"dataframe\">\n",
       "  <thead>\n",
       "    <tr style=\"text-align: right;\">\n",
       "      <th></th>\n",
       "      <th>Inversion pasiva</th>\n",
       "    </tr>\n",
       "  </thead>\n",
       "  <tbody>\n",
       "    <tr>\n",
       "      <th>Rendimiento mensual acumulado</th>\n",
       "      <td>0.143124</td>\n",
       "    </tr>\n",
       "    <tr>\n",
       "      <th>Rendimiento mensual promedio</th>\n",
       "      <td>0.004771</td>\n",
       "    </tr>\n",
       "    <tr>\n",
       "      <th>Radio de sharpe</th>\n",
       "      <td>-0.680206</td>\n",
       "    </tr>\n",
       "  </tbody>\n",
       "</table>\n",
       "</div>"
      ],
      "text/plain": [
       "                               Inversion pasiva\n",
       "Rendimiento mensual acumulado          0.143124\n",
       "Rendimiento mensual promedio           0.004771\n",
       "Radio de sharpe                       -0.680206"
      ]
     },
     "execution_count": 8,
     "metadata": {},
     "output_type": "execute_result"
    }
   ],
   "source": [
    "mn.df_medidas\n"
   ]
  },
  {
   "cell_type": "markdown",
   "metadata": {},
   "source": [
    "<br>"
   ]
  },
  {
   "cell_type": "markdown",
   "metadata": {},
   "source": [
    "# <font color= #6B6B6B> <font size = 6> 6. References </font>"
   ]
  },
  {
   "cell_type": "markdown",
   "metadata": {},
   "source": [
    "<hr style=\"border:0.02in solid gray\"> </hr>"
   ]
  },
  {
   "cell_type": "markdown",
   "metadata": {},
   "source": [
    "[1] Munnoz, 2020. Python project template. https://github.com/iffranciscome/python-project. (2021)."
   ]
  }
 ],
 "metadata": {
  "kernelspec": {
   "display_name": "Python 3.8.8",
   "language": "python",
   "name": "python3"
  },
  "language_info": {
   "codemirror_mode": {
    "name": "ipython",
    "version": 3
   },
   "file_extension": ".py",
   "mimetype": "text/x-python",
   "name": "python",
   "nbconvert_exporter": "python",
   "pygments_lexer": "ipython3",
   "version": "3.8.8"
  },
  "vscode": {
   "interpreter": {
    "hash": "1ddb15e3db607eddcca986def9e656a23d1828f3fd955fb0ac5a16e4303b8075"
   }
  }
 },
 "nbformat": 4,
 "nbformat_minor": 4
}
